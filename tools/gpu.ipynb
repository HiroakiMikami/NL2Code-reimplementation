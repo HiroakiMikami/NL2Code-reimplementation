{
  "nbformat": 4,
  "nbformat_minor": 0,
  "metadata": {
    "colab": {
      "name": "mlprogram/GPU",
      "provenance": [],
      "collapsed_sections": []
    },
    "kernelspec": {
      "name": "python3",
      "display_name": "Python 3"
    },
    "accelerator": "GPU"
  },
  "cells": [
    {
      "cell_type": "markdown",
      "metadata": {
        "id": "yje9hqtcUQ_f",
        "colab_type": "text"
      },
      "source": [
        "### Initialization\n",
        "* Mount Google Drive"
      ]
    },
    {
      "cell_type": "code",
      "metadata": {
        "id": "FwqGy_GyUQnw",
        "colab_type": "code",
        "colab": {}
      },
      "source": [
        "from google.colab import drive\n",
        "drive.mount('/gdrive')"
      ],
      "execution_count": null,
      "outputs": []
    },
    {
      "cell_type": "markdown",
      "metadata": {
        "id": "_S457sT6QMUr",
        "colab_type": "text"
      },
      "source": [
        "### Parameters"
      ]
    },
    {
      "cell_type": "code",
      "metadata": {
        "id": "2LYvG4iCQUwh",
        "colab_type": "code",
        "colab": {}
      },
      "source": [
        "seed = 20367 #@param {type: \"number\"}\n",
        "branch = \"master\" #@param {type: \"string\"}\n",
        "config_file = \"./configs/csg/pbe_with_repl_pretrain_small.yaml\" #@param {type:\"string\"}\n",
        "output = \"/gdrive/My Drive/mlprogram/csg/pbe_with_repl/small\" #@param {type:\"string\"}\n",
        "option = \"none\" #@param [\"none\", \"profile\"]\n",
        "n_process = 0 #@param {type: \"number\"}\n"
      ],
      "execution_count": null,
      "outputs": []
    },
    {
      "cell_type": "markdown",
      "metadata": {
        "id": "_BembldCdOO1",
        "colab_type": "text"
      },
      "source": [
        "### Setup\n",
        "* Download the codebase\n",
        "* Fix the random seed\n",
        "* Create symlinks"
      ]
    },
    {
      "cell_type": "code",
      "metadata": {
        "id": "FIZJmuz8QFn_",
        "colab_type": "code",
        "colab": {}
      },
      "source": [
        "%cd /content\n",
        "!rm -rf /content/mlprogram\n",
        "!git clone https://github.com/HiroakiMikami/mlprogram.git\n",
        "%cd mlprogram\n",
        "!git checkout {branch}\n",
        "!pip install .\n",
        "!pip install .'[test]'\n",
        "!pip install -U git+https://github.com/google/gin-config@fdb9ebff2bf56396ea4ad761d8e5224a0ff87798"
      ],
      "execution_count": null,
      "outputs": []
    },
    {
      "cell_type": "code",
      "metadata": {
        "id": "GwjlAkY1fR5j",
        "colab_type": "code",
        "colab": {}
      },
      "source": [
        "import numpy as np\n",
        "import random\n",
        "import torch\n",
        "\n",
        "SEED_MAX = 2**32 - 1\n",
        "\n",
        "root_rng = np.random.RandomState(seed)\n",
        "random.seed(root_rng.randint(SEED_MAX))\n",
        "np.random.seed(root_rng.randint(SEED_MAX))\n",
        "torch.manual_seed(root_rng.randint(SEED_MAX))"
      ],
      "execution_count": null,
      "outputs": []
    },
    {
      "cell_type": "code",
      "metadata": {
        "id": "FLyHhSXLswPB",
        "colab_type": "code",
        "colab": {}
      },
      "source": [
        "import os\n",
        "!rm -rf ./output\n",
        "os.makedirs(output, exist_ok=True)\n",
        "os.symlink(output, \"output\", target_is_directory=True)"
      ],
      "execution_count": null,
      "outputs": []
    },
    {
      "cell_type": "markdown",
      "metadata": {
        "id": "Oz7sdzxUi70b",
        "colab_type": "text"
      },
      "source": [
        "### Launch"
      ]
    },
    {
      "cell_type": "code",
      "metadata": {
        "id": "9Zh61CMXVmo2",
        "colab_type": "code",
        "colab": {}
      },
      "source": [
        "import logging as L\n",
        "from mlprogram.utils import logging\n",
        "logging.set_level(L.INFO)\n",
        "\n",
        "from tools.launch import launch_multiprocess\n",
        "import tempfile\n",
        "\n",
        "with tempfile.TemporaryDirectory() as tmpdir:\n",
        "    launch_multiprocess(config_file, option, tmpdir, n_process)"
      ],
      "execution_count": null,
      "outputs": []
    }
  ]
}