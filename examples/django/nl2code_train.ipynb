{
  "nbformat": 4,
  "nbformat_minor": 0,
  "metadata": {
    "colab": {
      "name": "NL2Prog/django/nl2code/train",
      "provenance": [],
      "collapsed_sections": [],
      "toc_visible": true
    },
    "kernelspec": {
      "name": "python3",
      "display_name": "Python 3"
    },
    "accelerator": "GPU"
  },
  "cells": [
    {
      "cell_type": "markdown",
      "metadata": {
        "colab_type": "text",
        "id": "yje9hqtcUQ_f"
      },
      "source": [
        "### Initialization\n",
        "* Check whether the runtime is host or local.\n",
        "* Mount Google Drive when using the host runtime."
      ]
    },
    {
      "cell_type": "code",
      "execution_count": 0,
      "metadata": {
        "colab": {},
        "colab_type": "code",
        "id": "FwqGy_GyUQnw"
      },
      "outputs": [],
      "source": [
        "try:\n",
        "    from google.colab import drive\n",
        "    drive.mount('/gdrive')\n",
        "    runtime = \"host\"\n",
        "except:\n",
        "    runtime = \"local\""
      ]
    },
    {
      "cell_type": "markdown",
      "metadata": {
        "colab_type": "text",
        "id": "_S457sT6QMUr"
      },
      "source": [
        "### Parameters"
      ]
    },
    {
      "cell_type": "code",
      "execution_count": 0,
      "metadata": {
        "colab": {},
        "colab_type": "code",
        "id": "2LYvG4iCQUwh"
      },
      "outputs": [],
      "source": [
        "#@markdown |Name  |Description|\n",
        "#@markdown |:---  |:---|\n",
        "#@markdown |`seed`|The random seed|\n",
        "seed = 20367 #@param {type: \"number\"}\n",
        "\n",
        "#@markdown ### `nlprog` Repositories\n",
        "#@markdown |Name            |Description|\n",
        "#@markdown |:---            |:---|\n",
        "#@markdown |`repository_url`|The URL of `nlprog` git repository (enabled only in the host runtime)|\n",
        "#@markdown |`branch_name`   |The branch name (enabled only in the host runtime)|\n",
        "repository_url = \"https://github.com/HiroakiMikami/NL2Prog\" #@param {type: \"string\"}\n",
        "branch_name = \"master\" #@param {type: \"string\"}\n",
        "\n",
        "#@markdown ### Dataset Settings\n",
        "#@markdown |Name               |Description|\n",
        "#@markdown |:---               |:---|\n",
        "#@markdown |`word_threshold`   ||\n",
        "#@markdown |`token_threshold`  ||\n",
        "word_threshold = 5 #@param {type: \"number\"}\n",
        "token_threshold = 5 #@param {type: \"number\"}\n",
        "\n",
        "#@markdown ### Model Parameters\n",
        "#@markdown |Name                     |Description|\n",
        "#@markdown |:---                     |:---|\n",
        "#@markdown |`embedding_dim`          |The dimension of word, token, and rule embeddings|\n",
        "#@markdown |`node_type_embedding_dim`|The dimension of node type embedding dim|\n",
        "#@markdown |`lstm_state_size`        |The size of LSTM state|\n",
        "#@markdwon |`hidden_state_size`      |The size of attention hidden state|\n",
        "embedding_dim = 128 #@param {type: \"number\"}\n",
        "node_type_embedding_dim = 64 #@param {type: \"number\"}\n",
        "lstm_state_size = 256 #@param {type: \"number\"}\n",
        "hidden_state_size = 50 #@param {type: \"number\"}\n",
        "\n",
        "#@markdown ### Training Settings\n",
        "#@markdown |Name        |Description|\n",
        "#@markdown |:---        |:---|\n",
        "#@markdown |`batch_size`|The minibatch size|\n",
        "#@markdown |`dropout`   |The probability of dropout|\n",
        "#@markdown |`num_epochs`|The numer of epoch|\n",
        "#@markdown |`num_train` |The number of entries used for training|\n",
        "#@markdown |`num_save_models`|The number of models to be saved.|\n",
        "batch_size = 10 #@param {type: \"number\"}\n",
        "dropout = 0.2 #@param {type: \"number\"}\n",
        "num_epochs = 50 #@param {type: \"number\"}\n",
        "num_train = 0 #@param {type: \"number\"}\n",
        "num_save_models = 3 #@param {type: \"number\"}\n",
        "\n",
        "#@markdown ### Other Settings\n",
        "#@markdown |Name    |Description|\n",
        "#@markdown |:---    |:---|\n",
        "#@markdown |`device`|The id of GPU. `-1` means that CPU is used.|\n",
        "device = 0 #@param {type: \"number\"}\n",
        "\n",
        "#@markdown ### Filepathes\n",
        "#@markdown |Name                 |Description|\n",
        "#@markdown |:---                 |:---|\n",
        "#@markdown |`output_dir_path`    |The directory of the directory that will contain the training results.|\n",
        "output_dir_path = \"/gdrive/My Drive/NL2Prog/django/nl2code\" #@param {type: \"string\"}"
      ]
    },
    {
      "cell_type": "markdown",
      "metadata": {
        "colab_type": "text",
        "id": "_BembldCdOO1"
      },
      "source": [
        "### Setup\n",
        "* Download the codebase (when using the host runtime)\n",
        "  1. Clone git repository and move to the specified branch\n",
        "  2. Install modules\n",
        "* Use GPU\n",
        "* Fix the random seed"
      ]
    },
    {
      "cell_type": "code",
      "execution_count": 0,
      "metadata": {
        "colab": {},
        "colab_type": "code",
        "id": "FIZJmuz8QFn_"
      },
      "outputs": [],
      "source": [
        "if runtime == \"host\":\n",
        "    %cd /content\n",
        "    !rm -rf NL2Prog\n",
        "    !git clone $repository_url NL2Prog\n",
        "    %cd NL2Prog\n",
        "    !git checkout $branch_name\n",
        "    !pip install .\n",
        "# load tqdm\n",
        "!pip install --force https://github.com/chengs/tqdm/archive/colab.zip"
      ]
    },
    {
      "cell_type": "code",
      "execution_count": 0,
      "metadata": {
        "colab": {},
        "colab_type": "code",
        "id": "Rsyz7B0Ukxa7"
      },
      "outputs": [],
      "source": [
        "import torch\n",
        "if device != -1:\n",
        "    torch.cuda.set_device(device)"
      ]
    },
    {
      "cell_type": "code",
      "execution_count": 0,
      "metadata": {
        "colab": {},
        "colab_type": "code",
        "id": "GwjlAkY1fR5j"
      },
      "outputs": [],
      "source": [
        "import numpy as np\n",
        "import random\n",
        "import torch\n",
        "\n",
        "SEED_MAX = 2**32 - 1\n",
        "\n",
        "root_rng = np.random.RandomState(seed)\n",
        "random.seed(root_rng.randint(SEED_MAX))\n",
        "np.random.seed(root_rng.randint(SEED_MAX))\n",
        "torch.manual_seed(root_rng.randint(SEED_MAX))"
      ]
    },
    {
      "cell_type": "markdown",
      "metadata": {
        "colab_type": "text",
        "id": "Oz7sdzxUi70b"
      },
      "source": [
        "### Setup training\n",
        "* Load the dataset\n",
        "* Split the dataset into train, test, valid\n",
        "* Create and save encoder\n",
        "* Prepare dataset\n",
        "* Create model\n",
        "* Create optimizer"
      ]
    },
    {
      "cell_type": "code",
      "execution_count": 0,
      "metadata": {
        "colab": {},
        "colab_type": "code",
        "id": "h7kdglcUjDTQ"
      },
      "outputs": [],
      "source": [
        "from nl2prog.dataset.django import download\n",
        "dataset = download()"
      ]
    },
    {
      "cell_type": "code",
      "execution_count": 0,
      "metadata": {
        "colab": {},
        "colab_type": "code",
        "id": "IrFgwHCntjkt"
      },
      "outputs": [],
      "source": [
        "from nl2prog.utils.data import ListDataset, Entry\n",
        "train_raw_dataset = dataset[\"train\"]\n",
        "if num_train != 0:\n",
        "    train_raw_dataset = ListDataset(list(train_raw_dataset)[:num_train])"
      ]
    },
    {
      "cell_type": "code",
      "execution_count": 0,
      "metadata": {
        "colab": {},
        "colab_type": "code",
        "id": "V0WsjTbjHOQ_"
      },
      "outputs": [],
      "source": [
        "from torchnlp.encoders import LabelEncoder\n",
        "from nl2prog.encoders import ActionSequenceEncoder\n",
        "from nl2prog.utils.data import get_samples, get_words\n",
        "from nl2prog.utils.python import tokenize_token\n",
        "from nl2prog.dataset.django import parse, tokenize_query\n",
        "from nl2prog.language.action import code_to_action_sequence as to_seq\n",
        "import pickle\n",
        "import os\n",
        "\n",
        "to_action_sequence = lambda x: to_seq(x, parse, tokenize=tokenize_token)\n",
        "words = get_words(train_raw_dataset, tokenize_query)\n",
        "samples = get_samples(train_raw_dataset, tokenize_token, to_action_sequence)\n",
        "qencoder = LabelEncoder(words, word_threshold)\n",
        "aencoder = ActionSequenceEncoder(samples, token_threshold)\n",
        "\n",
        "os.makedirs(output_dir_path, exist_ok=True)\n",
        "with open(os.path.join(output_dir_path, \"encoder.pickle\"), \"wb\") as file:\n",
        "    pickle.dump({\n",
        "        \"query_encoder\": qencoder,\n",
        "        \"action_sequence_encoder\": aencoder\n",
        "    }, file)"
      ]
    },
    {
      "cell_type": "code",
      "execution_count": 0,
      "metadata": {
        "colab": {},
        "colab_type": "code",
        "id": "11mMmXAuutb9"
      },
      "outputs": [],
      "source": [
        "from nl2prog.utils.transform \\\n",
        "    import TransformDataset, TransformCode, TransformGroundTruth\n",
        "from nl2prog.utils.transform.nl2code import TransformQuery, TransformEvaluator\n",
        "\n",
        "tquery = TransformQuery(tokenize_query, qencoder)\n",
        "tcode = TransformCode(to_action_sequence)\n",
        "teval = TransformEvaluator(aencoder)\n",
        "tgt = TransformGroundTruth(aencoder)\n",
        "transform = TransformDataset(tquery, tcode, teval, tgt)\n",
        "train_dataset = transform(train_raw_dataset)"
      ]
    },
    {
      "cell_type": "code",
      "execution_count": 0,
      "metadata": {
        "colab": {},
        "colab_type": "code",
        "id": "QcAaeUZMtqSt"
      },
      "outputs": [],
      "source": [
        "from nl2prog.nn.nl2code import TrainModel\n",
        "model = TrainModel(qencoder, aencoder, embedding_dim, node_type_embedding_dim,\n",
        "                   lstm_state_size, hidden_state_size,\n",
        "                   dropout)\n",
        "if device != -1:\n",
        "    model = model.cuda()"
      ]
    },
    {
      "cell_type": "code",
      "execution_count": 0,
      "metadata": {
        "colab": {},
        "colab_type": "code",
        "id": "ho3IgH4e04pi"
      },
      "outputs": [],
      "source": [
        "import torch.optim as optim\n",
        "optimizer = optim.Adam(model.parameters())"
      ]
    },
    {
      "cell_type": "markdown",
      "metadata": {
        "colab_type": "text",
        "id": "sJw73TjO1CNc"
      },
      "source": [
        "### Training Loop\n",
        "* Run training"
      ]
    },
    {
      "cell_type": "code",
      "execution_count": 0,
      "metadata": {
        "colab": {},
        "colab_type": "code",
        "id": "jAPAqZYz3A2p"
      },
      "outputs": [],
      "source": [
        "from tqdm import tqdm_notebook as tqdm\n",
        "import torch\n",
        "from torch.utils.data import DataLoader\n",
        "from nl2prog.utils import TopKModel\n",
        "from nl2prog.nn import Loss, Accuracy\n",
        "import nl2prog.nn.utils.rnn as nrnn\n",
        "from nl2prog.utils.data.nl2code import collate_train_dataset\n",
        "\n",
        "\n",
        "model_dir_path = os.path.join(output_dir_path, \"models\")\n",
        "os.makedirs(model_dir_path, exist_ok=True)\n",
        "models = TopKModel(num_save_models, model_dir_path)\n",
        "loss_function = Loss()\n",
        "acc_function = Accuracy()\n",
        "\n",
        "for epoch in tqdm(range(num_epochs)):\n",
        "    loader = DataLoader(train_dataset, batch_size=batch_size,\n",
        "                        shuffle=True, num_workers=4,\n",
        "                        collate_fn=collate_train_dataset)\n",
        "    avg_loss = 0.0\n",
        "    avg_acc = 0.0\n",
        "    model.train()\n",
        "    for (query, action, prev_action), ground_truth in loader:\n",
        "        query = nrnn.pad_sequence(query, padding_value=-1)\n",
        "        action = nrnn.pad_sequence(action, padding_value=-1)\n",
        "        prev_action = nrnn.pad_sequence(prev_action, padding_value=-1)\n",
        "        ground_truth = nrnn.pad_sequence(ground_truth, padding_value=-1)\n",
        "        if device != -1:\n",
        "            query.data = query.data.cuda()\n",
        "            query.mask = query.mask.cuda()\n",
        "            action.data = action.data.cuda()\n",
        "            action.mask = action.mask.cuda()\n",
        "            prev_action.data = prev_action.data.cuda()\n",
        "            prev_action.mask = prev_action.mask.cuda()\n",
        "            ground_truth.data = ground_truth.data.cuda()\n",
        "            ground_truth.mask = ground_truth.mask.cuda()\n",
        "\n",
        "        rule_prob, token_prob, copy_prob, _, _ = model(query, action, prev_action)\n",
        "        loss = loss_function(rule_prob, token_prob, copy_prob, ground_truth)\n",
        "        with torch.no_grad():\n",
        "            acc = acc_function(rule_prob, token_prob, copy_prob, ground_truth)\n",
        "        optimizer.zero_grad()\n",
        "        loss.backward()\n",
        "        optimizer.step()\n",
        "\n",
        "        avg_loss += loss.item() / len(loader)\n",
        "        avg_acc += acc.item() / len(loader)\n",
        "    print(epoch, avg_loss, avg_acc)\n",
        "    models.save(avg_acc, str(epoch), model)"
      ]
    }
  ]
}