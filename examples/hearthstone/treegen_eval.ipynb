{
  "nbformat": 4,
  "nbformat_minor": 0,
  "metadata": {
    "colab": {
      "name": "NL2Prog/hearthstone/treegen/evaluate",
      "provenance": [],
      "collapsed_sections": [],
      "toc_visible": true
    },
    "kernelspec": {
      "name": "python3",
      "display_name": "Python 3"
    },
    "accelerator": "GPU"
  },
  "cells": [
    {
      "cell_type": "markdown",
      "metadata": {
        "id": "yje9hqtcUQ_f",
        "colab_type": "text"
      },
      "source": [
        "### Initialization\n",
        "* Check whether the runtime is host or local.\n",
        "* Mount Google Drive when using the host runtime."
      ]
    },
    {
      "cell_type": "code",
      "metadata": {
        "id": "FwqGy_GyUQnw",
        "colab_type": "code",
        "colab": {}
      },
      "source": [
        "try:\n",
        "    from google.colab import drive\n",
        "    drive.mount('/gdrive')\n",
        "    runtime = \"host\"\n",
        "except:\n",
        "    runtime = \"local\""
      ],
      "execution_count": 0,
      "outputs": []
    },
    {
      "cell_type": "markdown",
      "metadata": {
        "id": "_S457sT6QMUr",
        "colab_type": "text"
      },
      "source": [
        "### Parameters"
      ]
    },
    {
      "cell_type": "code",
      "metadata": {
        "id": "2LYvG4iCQUwh",
        "colab_type": "code",
        "colab": {}
      },
      "source": [
        "seed = 20367 #@param {type: \"number\"}\n",
        "\n",
        "repository_url = \"https://github.com/HiroakiMikami/NL2Prog\" #@param {type: \"string\"}\n",
        "branch_name = \"master\" #@param {type: \"string\"}\n",
        "\n",
        "word_threshold =  3 #@param {type: \"number\"}\n",
        "token_threshold = 0 #@param {type: \"number\"}\n",
        "max_token_len = 32 #@param {type: \"number\"}\n",
        "max_arity = 16 #@param {type: \"number\"}\n",
        "\n",
        "num_heads = 1 #@param {type: \"number\"}\n",
        "num_nl_reader_blocks = 6 #@param {type: \"number\"}\n",
        "num_ast_reader_blocks = 6 #@param {type: \"number\"}\n",
        "num_decoder_blocks = 6 #@param {type: \"number\"}\n",
        "hidden_size = 256 #@param {type: \"number\"}\n",
        "feature_size = 1024  #@param {type: \"number\"}\n",
        "\n",
        "\n",
        "max_action_length = 350 #@param {type: \"number\"}\n",
        "beam_size = 15 #@param {type: \"number\"}\n",
        "\n",
        "dropout = 0.15 #@param {type: \"number\"}\n",
        "\n",
        "device = 0 #@param {type: \"number\"}\n",
        "\n",
        "output_dir_path = \"/gdrive/My Drive/NL2Prog/hearthstone/treegen\" #@param {type: \"string\"}"
      ],
      "execution_count": 0,
      "outputs": []
    },
    {
      "cell_type": "markdown",
      "metadata": {
        "id": "_BembldCdOO1",
        "colab_type": "text"
      },
      "source": [
        "### Setup\n",
        "* Download the codebase (when using the host runtime)\n",
        "  1. Clone git repository and move to the specified branch\n",
        "  2. Install modules\n",
        "* Use GPU\n",
        "* Fix the random seed"
      ]
    },
    {
      "cell_type": "code",
      "metadata": {
        "id": "FIZJmuz8QFn_",
        "colab_type": "code",
        "colab": {}
      },
      "source": [
        "if runtime == \"host\":\n",
        "    %cd /content\n",
        "    !rm -rf NL2Prog\n",
        "    !git clone $repository_url NL2Prog\n",
        "    %cd NL2Prog\n",
        "    !git checkout $branch_name\n",
        "    !pip install .\n",
        "# load tqdm\n",
        "!pip install --force https://github.com/chengs/tqdm/archive/colab.zip"
      ],
      "execution_count": 0,
      "outputs": []
    },
    {
      "cell_type": "code",
      "metadata": {
        "id": "Rsyz7B0Ukxa7",
        "colab_type": "code",
        "colab": {}
      },
      "source": [
        "import torch\n",
        "if device != -1:\n",
        "    torch.cuda.set_device(device)"
      ],
      "execution_count": 0,
      "outputs": []
    },
    {
      "cell_type": "code",
      "metadata": {
        "id": "GwjlAkY1fR5j",
        "colab_type": "code",
        "colab": {}
      },
      "source": [
        "import numpy as np\n",
        "import random\n",
        "import torch\n",
        "\n",
        "SEED_MAX = 2**32 - 1\n",
        "\n",
        "root_rng = np.random.RandomState(seed)\n",
        "random.seed(root_rng.randint(SEED_MAX))\n",
        "np.random.seed(root_rng.randint(SEED_MAX))\n",
        "torch.manual_seed(root_rng.randint(SEED_MAX))"
      ],
      "execution_count": 0,
      "outputs": []
    },
    {
      "cell_type": "markdown",
      "metadata": {
        "id": "Oz7sdzxUi70b",
        "colab_type": "text"
      },
      "source": [
        "### Setup training\n",
        "* Load the dataset\n",
        "* Split the dataset into train, test, valid\n",
        "* Create and save encoder\n",
        "* Prepare dataset\n",
        "* Create model\n",
        "* Create optimizer\n",
        "* Prepare evaluation\n",
        "* Load checkpoint"
      ]
    },
    {
      "cell_type": "code",
      "metadata": {
        "id": "h7kdglcUjDTQ",
        "colab_type": "code",
        "colab": {}
      },
      "source": [
        "from nl2prog.dataset.hearthstone import download\n",
        "dataset = download()"
      ],
      "execution_count": 0,
      "outputs": []
    },
    {
      "cell_type": "code",
      "metadata": {
        "id": "IrFgwHCntjkt",
        "colab_type": "code",
        "colab": {}
      },
      "source": [
        "from nl2prog.utils.data import ListDataset, Entry\n",
        "test_raw_dataset = dataset[\"test\"]\n",
        "val_raw_dataset = dataset[\"valid\"]"
      ],
      "execution_count": 0,
      "outputs": []
    },
    {
      "cell_type": "code",
      "metadata": {
        "colab_type": "code",
        "id": "V0WsjTbjHOQ_",
        "colab": {}
      },
      "source": [
        "import pickle\n",
        "import os\n",
        "\n",
        "\n",
        "with open(os.path.join(output_dir_path, \"encoder.pickle\"), \"rb\") as file:\n",
        "    encoder = pickle.load(file)\n",
        "    qencoder = encoder[\"query_encoder\"]\n",
        "    cencoder = encoder[\"character_encoder\"]\n",
        "    aencoder = encoder[\"action_sequence_encoder\"]"
      ],
      "execution_count": 0,
      "outputs": []
    },
    {
      "cell_type": "code",
      "metadata": {
        "id": "11mMmXAuutb9",
        "colab_type": "code",
        "colab": {}
      },
      "source": [
        "from nl2prog.utils.data import to_eval_dataset\n",
        "\n",
        "\n",
        "test_dataset = to_eval_dataset(test_raw_dataset)\n",
        "valid_dataset = to_eval_dataset(val_raw_dataset)"
      ],
      "execution_count": 0,
      "outputs": []
    },
    {
      "cell_type": "code",
      "metadata": {
        "id": "QcAaeUZMtqSt",
        "colab_type": "code",
        "colab": {}
      },
      "source": [
        "from nl2prog.nn.treegen import TrainModel\n",
        "model = TrainModel(qencoder, cencoder, aencoder, max_token_len, max_arity,\n",
        "                   num_heads, num_nl_reader_blocks, num_ast_reader_blocks,\n",
        "                   num_decoder_blocks, hidden_size, feature_size, dropout)\n",
        "if device != -1:\n",
        "    model = model.cuda()"
      ],
      "execution_count": 0,
      "outputs": []
    },
    {
      "cell_type": "code",
      "metadata": {
        "id": "ViMdu97wimfu",
        "colab_type": "code",
        "colab": {}
      },
      "source": [
        "import nl2prog.nn.utils.rnn as nrnn\n",
        "from nl2prog.utils import synthesize as _synthesize\n",
        "from nl2prog.utils.treegen import BeamSearchSynthesizer\n",
        "from nl2prog.utils.python import tokenize_query\n",
        "from nl2prog.language.action import ActionOptions\n",
        "from nl2prog.language.python import is_subtype, parse, unparse\n",
        "from nl2prog.metrics import Accuracy\n",
        "from nl2prog.metrics.python import Bleu\n",
        "\n",
        "\n",
        "synthesizer = BeamSearchSynthesizer(\n",
        "    beam_size, tokenize_query, model.query_embedding, model.rule_embedding,\n",
        "    model.nl_reader, model.ast_reader, model.decoder, model.predictor,\n",
        "    qencoder, cencoder, aencoder, max_token_len, max_arity, is_subtype,\n",
        "    options=ActionOptions(False, False),\n",
        "    max_steps=max_action_length)\n",
        "\n",
        "def synthesize(query: str):\n",
        "    return _synthesize(query, synthesizer)\n",
        "\n",
        "accuracy = Accuracy(parse, unparse)\n",
        "bleu = Bleu(parse, unparse)\n",
        "metrics = { \"accuracy\": accuracy, \"bleu\": bleu }"
      ],
      "execution_count": 0,
      "outputs": []
    },
    {
      "cell_type": "markdown",
      "metadata": {
        "id": "toeP4RGEeK1b",
        "colab_type": "text"
      },
      "source": [
        "### Run Validation"
      ]
    },
    {
      "cell_type": "code",
      "metadata": {
        "id": "BAjEaEWYeKGF",
        "colab_type": "code",
        "colab": {}
      },
      "source": [
        "from tqdm import tqdm_notebook as tqdm\n",
        "import os\n",
        "import torch\n",
        "import torch.nn.utils.rnn as rnn\n",
        "import nl2prog.nn.utils.rnn as nrnn\n",
        "from nl2prog.utils import evaluate\n",
        "\n",
        "# Test the model\n",
        "best_score = -1\n",
        "best_score_path = None\n",
        "model_dir_path = os.path.join(output_dir_path, \"models\")\n",
        "for m in os.listdir(model_dir_path):\n",
        "    path = os.path.join(model_dir_path, m)\n",
        "    model.load_state_dict(torch.load(path)[\"model\"])\n",
        "    model.eval()\n",
        "    result = evaluate(tqdm(test_dataset), synthesize, top_n=[1], metrics=metrics)\n",
        "    print(m, result.metrics)\n",
        "    score = result.metrics[1][\"bleu\"]\n",
        "    if score > best_score:\n",
        "        best_score = score\n",
        "        best_score_path = path\n",
        "print(\"Best Model: {}\".format(best_score_path))"
      ],
      "execution_count": 0,
      "outputs": []
    },
    {
      "cell_type": "code",
      "metadata": {
        "colab_type": "code",
        "id": "UZ7R3gSK4vU0",
        "colab": {}
      },
      "source": [
        "from tqdm import tqdm_notebook as tqdm\n",
        "import os\n",
        "import pickle\n",
        "import torch\n",
        "import torch.nn.utils.rnn as rnn\n",
        "import nl2prog.nn.utils.rnn as nrnn\n",
        "from nl2prog.utils import evaluate\n",
        "\n",
        "# Validate the model\n",
        "model.load_state_dict(torch.load(best_score_path)[\"model\"])\n",
        "model.eval()\n",
        "result = evaluate(tqdm(valid_dataset), synthesize, top_n=[1], metrics=metrics)\n",
        "print(result.metrics)\n",
        "with open(os.path.join(output_dir_path, \"validation_results.pickle\"), \"wb\") as file:\n",
        "    pickle.dump(result.results, file)"
      ],
      "execution_count": 0,
      "outputs": []
    }
  ]
}