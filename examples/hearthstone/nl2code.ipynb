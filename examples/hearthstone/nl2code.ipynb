{
  "nbformat": 4,
  "nbformat_minor": 0,
  "metadata": {
    "colab": {
      "name": "NL2Code hs train",
      "provenance": [],
      "collapsed_sections": [],
      "toc_visible": true
    },
    "kernelspec": {
      "name": "python3",
      "display_name": "Python 3"
    },
    "accelerator": "GPU"
  },
  "cells": [
    {
      "cell_type": "markdown",
      "metadata": {
        "colab_type": "text",
        "id": "yje9hqtcUQ_f"
      },
      "source": [
        "### Initialization\n",
        "* Check whether the runtime is host or local.\n",
        "* Mount Google Drive when using the host runtime."
      ]
    },
    {
      "cell_type": "code",
      "execution_count": 0,
      "metadata": {
        "colab": {},
        "colab_type": "code",
        "id": "FwqGy_GyUQnw"
      },
      "outputs": [],
      "source": [
        "try:\n",
        "  from google.colab import drive\n",
        "  drive.mount('/gdrive')\n",
        "  runtime = \"host\"\n",
        "except:\n",
        "  runtime = \"local\""
      ]
    },
    {
      "cell_type": "markdown",
      "metadata": {
        "colab_type": "text",
        "id": "_S457sT6QMUr"
      },
      "source": [
        "### Parameters"
      ]
    },
    {
      "cell_type": "code",
      "execution_count": 0,
      "metadata": {
        "colab": {},
        "colab_type": "code",
        "id": "2LYvG4iCQUwh"
      },
      "outputs": [],
      "source": [
        "#@title Parameters\n",
        "#@markdown |Name  |Description|\n",
        "#@markdown |:---  |:---|\n",
        "#@markdown |`seed`|The random seed|\n",
        "seed = 20367 #@param {type: \"number\"}\n",
        "\n",
        "#@markdown ### `nlprog` Repositories\n",
        "#@markdown |Name            |Description|\n",
        "#@markdown |:---            |:---|\n",
        "#@markdown |`repository_url`|The URL of `nlprog` git repository (enabled only in the host runtime)|\n",
        "#@markdown |`branch_name`   |The branch name (enabled only in the host runtime)|\n",
        "repository_url = \"https://github.com/HiroakiMikami/NL2Prog\" #@param {type: \"string\"}\n",
        "branch_name = \"master\" #@param {type: \"string\"}\n",
        "\n",
        "#@markdown ### Dataset Settings\n",
        "#@markdown |Name               |Description|\n",
        "#@markdown |:---               |:---|\n",
        "#@markdown |`max_action_length`|The maximum action length|\n",
        "#@markdown |`word_threshold`   ||\n",
        "#@markdown |`token_threshold`  ||\n",
        "max_action_length = 350 #@param {type: \"number\"}\n",
        "word_threshold = 3 #@param {type: \"number\"}\n",
        "token_threshold = 0 #@param {type: \"number\"}\n",
        "\n",
        "#@markdown ### Model Parameters\n",
        "#@markdown |Name                     |Description|\n",
        "#@markdown |:---                     |:---|\n",
        "#@markdown |`embedding_dim`          |The dimension of word, token, and rule embeddings|\n",
        "#@markdown |`node_type_embedding_dim`|The dimension of node type embedding dim|\n",
        "#@markdown |`lstm_state_size`        |The size of LSTM state|\n",
        "#@markdwon |`hidden_state_size`      |The size of attention hidden state|\n",
        "embedding_dim = 128 #@param {type: \"number\"}\n",
        "node_type_embedding_dim = 64 #@param {type: \"number\"}\n",
        "lstm_state_size = 256 #@param {type: \"number\"}\n",
        "hidden_state_size = 50 #@param {type: \"number\"}\n",
        "\n",
        "#@markdown ### Training Settings\n",
        "#@markdown |Name        |Description|\n",
        "#@markdown |:---        |:---|\n",
        "#@markdown |`batch_size`|The minibatch size|\n",
        "#@markdown |`dropout`   |The probability of dropout|\n",
        "#@markdown |`num_epochs`|The numer of epoch|\n",
        "#@markdown |`num_train` |The number of entries used for training|\n",
        "batch_size = 1 #@param {type: \"number\"}\n",
        "dropout = 0.2 #@param {type: \"number\"}\n",
        "num_epochs = 50 #@param {type: \"number\"}\n",
        "num_train = 0 #@param {type: \"number\"}\n",
        "\n",
        "\n",
        "#@markdown ### Evaluation Settings\n",
        "#@markdown |Name                 |Description|\n",
        "#@markdown |:---                 |:---|\n",
        "#@markdown |`beam_size`          |The beam size|\n",
        "#@markdown |`evaluation_interval`|The number of epochs between two evaluation|\n",
        "beam_size = 15 #@param {type: \"number\"}\n",
        "evaluation_interval = 5 #@param {type: \"number\"}\n",
        "\n",
        "#@markdown ### Other Settings\n",
        "#@markdown |Name    |Description|\n",
        "#@markdown |:---    |:---|\n",
        "#@markdown |`device`|The id of GPU. `-1` means that CPU is used.|\n",
        "device = 0 #@param {type: \"number\"}\n",
        "\n",
        "#@markdown ### Filepathes\n",
        "#@markdown |Name                 |Description|\n",
        "#@markdown |:---                 |:---|\n",
        "#@markdown |`output_dir_path`    |The directory of the directory that will contain the training results.|\n",
        "#@markdown |`checkpoint_dir_path`|The directory of the directory that will contain the checkpoints.|\n",
        "output_dir_path = \"/gdrive/My Drive/NL2Code/hearthstone/result/\" #@param {type: \"string\"}\n",
        "checkpoint_dir_path = \"/gdrive/My Drive/NL2Code/hearthstone/checkpoint/\" #@param {type: \"string\"}"
      ]
    },
    {
      "cell_type": "markdown",
      "metadata": {
        "colab_type": "text",
        "id": "_BembldCdOO1"
      },
      "source": [
        "### Setup\n",
        "* Download the codebase (when using the host runtime)\n",
        "  1. Clone git repository and move to the specified branch\n",
        "  2. Install modules\n",
        "* Use GPU\n",
        "* Fix the random seed"
      ]
    },
    {
      "cell_type": "code",
      "execution_count": 0,
      "metadata": {
        "colab": {},
        "colab_type": "code",
        "id": "FIZJmuz8QFn_"
      },
      "outputs": [],
      "source": [
        "if runtime == \"host\":\n",
        "    %cd /content\n",
        "    !rm -rf NL2Prog\n",
        "    ![ ! -e NL2Prog ] && git clone $repository_url NL2Prog\n",
        "    %cd NL2Prog\n",
        "    !git checkout $branch_name\n",
        "    !pip install -e .\n",
        "# load tqdm\n",
        "!pip install --force https://github.com/chengs/tqdm/archive/colab.zip"
      ]
    },
    {
      "cell_type": "code",
      "execution_count": 0,
      "metadata": {
        "colab": {},
        "colab_type": "code",
        "id": "Rsyz7B0Ukxa7"
      },
      "outputs": [],
      "source": [
        "import torch\n",
        "if device != -1:\n",
        "    torch.cuda.set_device(device)"
      ]
    },
    {
      "cell_type": "code",
      "execution_count": 0,
      "metadata": {
        "colab": {
          "base_uri": "https://localhost:8080/",
          "height": 34
        },
        "colab_type": "code",
        "id": "GwjlAkY1fR5j",
        "outputId": "cb17d53c-05b6-442a-d966-da6be381db96"
      },
      "source": [
        "import numpy as np\n",
        "import random\n",
        "import torch\n",
        "\n",
        "SEED_MAX = 2**32 - 1\n",
        "\n",
        "root_rng = np.random.RandomState(seed)\n",
        "random.seed(root_rng.randint(SEED_MAX))\n",
        "np.random.seed(root_rng.randint(SEED_MAX))\n",
        "torch.manual_seed(root_rng.randint(SEED_MAX))"
      ]
    },
    {
      "cell_type": "markdown",
      "metadata": {
        "colab_type": "text",
        "id": "Oz7sdzxUi70b"
      },
      "source": [
        "### Setup training\n",
        "* Load the dataset\n",
        "* Split the dataset into train, test, valid\n",
        "* Create and save encoder\n",
        "* Prepare dataset\n",
        "* Create model\n",
        "* Create optimizer\n",
        "* Prepare evaluation\n",
        "* Load checkpoint"
      ]
    },
    {
      "cell_type": "code",
      "execution_count": 0,
      "metadata": {
        "colab": {},
        "colab_type": "code",
        "id": "h7kdglcUjDTQ"
      },
      "outputs": [],
      "source": [
        "from nl2prog.dataset.hearthstone import download\n",
        "dataset = download()"
      ]
    },
    {
      "cell_type": "code",
      "execution_count": 0,
      "metadata": {
        "colab": {},
        "colab_type": "code",
        "id": "IrFgwHCntjkt"
      },
      "outputs": [],
      "source": [
        "from nl2prog.utils.data import ListDataset\n",
        "train_raw_dataset = dataset[\"train\"]\n",
        "test_raw_dataset = dataset[\"test\"]\n",
        "val_raw_dataset = dataset[\"valid\"]\n",
        "if num_train != 0:\n",
        "    train_raw_dataset = ListDataset(list(train_raw_dataset)[:num_train])\n",
        "    test_raw_dataset = ListDataset(list(train_raw_dataset)[:num_train])\n",
        "    val_raw_dataset = ListDataset(list(train_raw_dataset)[:num_train])"
      ]
    },
    {
      "cell_type": "code",
      "execution_count": 0,
      "metadata": {
        "colab": {},
        "colab_type": "code",
        "id": "V0WsjTbjHOQ_"
      },
      "outputs": [],
      "source": [
        "from nl2prog.utils.data.nl2code import Encoder, get_samples\n",
        "from nl2prog.utils.python.nl2code import tokenize_query, tokenize_token\n",
        "from nl2prog.utils.nl2code import to_action_sequence as to_seq\n",
        "from nl2prog.language.python import parse\n",
        "import pickle\n",
        "import os\n",
        "\n",
        "to_action_sequence = lambda x: to_seq(x, parse, tokenize_token)\n",
        "!mkdir -p \"$output_dir_path\"\n",
        "samples = get_samples(train_raw_dataset, tokenize_query, tokenize_token,\n",
        "                      to_action_sequence)\n",
        "encoder = Encoder(samples, word_threshold, token_threshold)\n",
        "with open(os.path.join(output_dir_path, \"encoder.pickle\"), \"wb\") as file:\n",
        "    pickle.dump(encoder, file)\n"
      ]
    },
    {
      "cell_type": "code",
      "execution_count": 0,
      "metadata": {
        "colab": {},
        "colab_type": "code",
        "id": "11mMmXAuutb9"
      },
      "outputs": [],
      "source": [
        "from nl2prog.utils.data.nl2code import to_train_dataset, to_eval_dataset\n",
        "train_dataset = to_train_dataset(train_raw_dataset, tokenize_query, tokenize_token, to_action_sequence, encoder)\n",
        "test_dataset = to_eval_dataset(test_raw_dataset, tokenize_query, tokenize_token, to_action_sequence, encoder)\n",
        "valid_dataset = to_eval_dataset(val_raw_dataset, tokenize_query, tokenize_token, to_action_sequence, encoder)"
      ]
    },
    {
      "cell_type": "code",
      "execution_count": 0,
      "metadata": {
        "colab": {},
        "colab_type": "code",
        "id": "QcAaeUZMtqSt"
      },
      "outputs": [],
      "source": [
        "from nl2prog.nn.nl2code import TrainModel\n",
        "model = TrainModel(encoder, embedding_dim, node_type_embedding_dim,\n",
        "                   lstm_state_size, hidden_state_size,\n",
        "                   dropout)\n",
        "if device != -1:\n",
        "    model = model.cuda()"
      ]
    },
    {
      "cell_type": "code",
      "execution_count": 0,
      "metadata": {
        "colab": {},
        "colab_type": "code",
        "id": "ho3IgH4e04pi"
      },
      "outputs": [],
      "source": [
        "import torch.optim as optim\n",
        "optimizer = optim.Adam(model.parameters())"
      ]
    },
    {
      "cell_type": "code",
      "execution_count": 0,
      "metadata": {
        "colab": {},
        "colab_type": "code",
        "id": "ViMdu97wimfu"
      },
      "outputs": [],
      "source": [
        "import nl2prog.nn.utils.rnn as nrnn\n",
        "from nl2prog.utils.nl2code import BeamSearchSynthesizer, synthesize as _synthesize\n",
        "from nl2prog.language.python import is_subtype, parse, unparse\n",
        "from nl2prog.metrics import Accuracy\n",
        "from nl2prog.metrics.python import Bleu\n",
        "\n",
        "from typing import List\n",
        "\n",
        "def encode_query(query: List[str]):\n",
        "    x = encoder.annotation_encoder.batch_encode(query)\n",
        "    if device != -1:\n",
        "        x = x.cuda()\n",
        "    embedding =  model.encoder(nrnn.pad_sequence([x]))\n",
        "    embedding = embedding.data\n",
        "    return embedding.view(len(query), -1)\n",
        "\n",
        "\n",
        "synthesizer = BeamSearchSynthesizer(beam_size, model.predictor,\n",
        "                                    encoder.action_sequence_encoder, is_subtype,\n",
        "                                    max_steps=max_action_length)\n",
        "\n",
        "def synthesize(query: str):\n",
        "    return _synthesize(query, encode_query, synthesizer)\n",
        "\n",
        "accuracy = Accuracy(parse, unparse)\n",
        "bleu = Bleu(parse, unparse)\n",
        "metrics = { \"accuracy\": accuracy, \"bleu\": bleu }\n"
      ]
    },
    {
      "cell_type": "code",
      "execution_count": 0,
      "metadata": {
        "colab": {},
        "colab_type": "code",
        "id": "wB15RG-OKiiF"
      },
      "outputs": [],
      "source": [
        "!mkdir -p \"$checkpoint_dir_path\"\n",
        "checkpoint_path = os.path.join(checkpoint_dir_path, \"checkpoint.pickle\")\n",
        "if os.path.exists(checkpoint_path):\n",
        "    print(\"Load checkpoint: {}\".format(checkpoint_path))\n",
        "    checkpoint = torch.load(checkpoint_path, map_location=\"cpu\")\n",
        "    start_epoch = checkpoint[\"epoch\"]\n",
        "    model.load_state_dict(checkpoint[\"model\"])\n",
        "    optimizer.load_state_dict(checkpoint[\"optimizer\"])\n",
        "else:\n",
        "    start_epoch = 0"
      ]
    },
    {
      "cell_type": "markdown",
      "metadata": {
        "colab_type": "text",
        "id": "sJw73TjO1CNc"
      },
      "source": [
        "### Training Loop\n",
        "* Run training"
      ]
    },
    {
      "cell_type": "code",
      "execution_count": 0,
      "metadata": {
        "colab": {
          "base_uri": "https://localhost:8080/",
          "height": 1000
        },
        "colab_type": "code",
        "id": "jAPAqZYz3A2p",
        "outputId": "19226d15-2d38-4980-f8fd-3075c6a330a0"
      },
      "outputs": [
        {
          "name": "stderr",
          "output_type": "stream",
          "text": [
            "/usr/local/lib/python3.6/dist-packages/tqdm/_tqdm_notebook.py:88: TqdmExperimentalWarning: Detect Google Colab 0.0.1a2 and thus load dummy ipywidgets package. Note that UI is different from that in Jupyter. See https://github.com/tqdm/tqdm/pull/640\n",
            "  \" See https://github.com/tqdm/tqdm/pull/640\".format(colab.__version__), TqdmExperimentalWarning)\n"
          ]
        },
        {
          "data": {
            "text/html": [
              "<div style=\"display:flex;flex-direction:row;\"><span></span><progress style='margin:2px 4px;' max='50' value='50'></progress>100% 50/50 [5:42:30&lt;00:00, 601.08s/it]</div>"
            ],
            "text/plain": [
              "<tqdm._fake_ipywidgets.HBox object>"
            ]
          },
          "metadata": {
            "tags": []
          },
          "output_type": "display_data"
        },
        {
          "name": "stdout",
          "output_type": "stream",
          "text": [
            "0 341.8400854429209\n",
            "1 152.2318979517381\n",
            "2 95.23672123205824\n",
            "3 77.11090573852996\n",
            "4 67.97545091654075\n"
          ]
        },
        {
          "data": {
            "text/html": [
              "<div style=\"display:flex;flex-direction:row;\"><span></span><progress style='margin:2px 4px;' max='66' value='66'></progress>100% 66/66 [32:45&lt;00:00, 36.15s/it]</div>"
            ],
            "text/plain": [
              "<tqdm._fake_ipywidgets.HBox object>"
            ]
          },
          "metadata": {
            "tags": []
          },
          "output_type": "display_data"
        },
        {
          "name": "stdout",
          "output_type": "stream",
          "text": [
            "root [WARNING] 'Unparser' object has no attribute '_USub'\n",
            "root [WARNING] 'Unparser' object has no attribute '_USub'\n",
            "root [WARNING] 'Unparser' object has no attribute '_USub'\n",
            "root [WARNING] 'Unparser' object has no attribute '_USub'\n",
            "root [WARNING] 'Unparser' object has no attribute '_USub'\n",
            "root [WARNING] 'Unparser' object has no attribute '_USub'\n",
            "root [WARNING] 'Unparser' object has no attribute '_USub'\n",
            "root [WARNING] 'Unparser' object has no attribute '_USub'\n",
            "root [WARNING] 'Unparser' object has no attribute '_USub'\n",
            "root [WARNING] 'Unparser' object has no attribute '_USub'\n",
            "root [WARNING] 'Unparser' object has no attribute '_USub'\n",
            "root [WARNING] 'Unparser' object has no attribute '_USub'\n",
            "root [WARNING] 'Unparser' object has no attribute '_USub'\n",
            "root [WARNING] 'Unparser' object has no attribute '_USub'\n",
            "root [WARNING] 'Unparser' object has no attribute '_USub'\n",
            "root [WARNING] 'Unparser' object has no attribute '_USub'\n",
            "root [WARNING] 'Unparser' object has no attribute '_USub'\n",
            "root [WARNING] 'Unparser' object has no attribute '_USub'\n",
            "root [WARNING] 'Unparser' object has no attribute '_USub'\n",
            "root [WARNING] 'Unparser' object has no attribute '_USub'\n",
            "root [WARNING] 'Unparser' object has no attribute '_USub'\n",
            "root [WARNING] 'Unparser' object has no attribute '_USub'\n",
            "root [WARNING] 'Unparser' object has no attribute '_USub'\n",
            "root [WARNING] 'Unparser' object has no attribute '_USub'\n",
            "root [WARNING] 'Unparser' object has no attribute '_USub'\n",
            "root [WARNING] 'Unparser' object has no attribute '_USub'\n",
            "root [WARNING] 'Unparser' object has no attribute '_USub'\n",
            "root [WARNING] 'Unparser' object has no attribute '_USub'\n",
            "root [WARNING] 'Unparser' object has no attribute '_USub'\n",
            "root [WARNING] 'Unparser' object has no attribute '_USub'\n",
            "root [WARNING] 'Unparser' object has no attribute '_USub'\n",
            "root [WARNING] 'Unparser' object has no attribute '_USub'\n",
            "root [WARNING] 'Unparser' object has no attribute '_USub'\n",
            "root [WARNING] 'Unparser' object has no attribute '_USub'\n",
            "root [WARNING] 'Unparser' object has no attribute '_USub'\n",
            "root [WARNING] 'Unparser' object has no attribute '_USub'\n",
            "root [WARNING] 'Unparser' object has no attribute '_USub'\n",
            "root [WARNING] 'Unparser' object has no attribute '_USub'\n",
            "root [WARNING] 'Unparser' object has no attribute '_USub'\n",
            "root [WARNING] 'Unparser' object has no attribute '_USub'\n",
            "4 {1: {'accuracy': 0.0, 'bleu': 0.39968364402959883}}\n",
            "5 61.29764263446513\n",
            "6 56.131010952854766\n",
            "7 52.35446287409224\n",
            "8 49.04604890422575\n",
            "9 45.75377236432477\n"
          ]
        },
        {
          "data": {
            "text/html": [
              "<div style=\"display:flex;flex-direction:row;\"><span></span><progress style='margin:2px 4px;' max='66' value='66'></progress>100% 66/66 [17:32&lt;00:00, 14.68s/it]</div>"
            ],
            "text/plain": [
              "<tqdm._fake_ipywidgets.HBox object>"
            ]
          },
          "metadata": {
            "tags": []
          },
          "output_type": "display_data"
        },
        {
          "name": "stdout",
          "output_type": "stream",
          "text": [
            "root [WARNING] 'Unparser' object has no attribute '_USub'\n",
            "root [WARNING] 'Unparser' object has no attribute '_USub'\n",
            "root [WARNING] 'Unparser' object has no attribute '_USub'\n",
            "root [WARNING] 'Unparser' object has no attribute '_USub'\n",
            "root [WARNING] 'Unparser' object has no attribute '_USub'\n",
            "root [WARNING] 'Unparser' object has no attribute '_USub'\n",
            "root [WARNING] 'Unparser' object has no attribute '_USub'\n",
            "root [WARNING] 'Unparser' object has no attribute '_USub'\n",
            "root [WARNING] 'Unparser' object has no attribute '_USub'\n",
            "root [WARNING] 'Unparser' object has no attribute '_USub'\n",
            "root [WARNING] 'Unparser' object has no attribute '_USub'\n",
            "root [WARNING] 'Unparser' object has no attribute '_USub'\n",
            "root [WARNING] 'Unparser' object has no attribute '_USub'\n",
            "root [WARNING] 'Unparser' object has no attribute '_USub'\n",
            "root [WARNING] 'Unparser' object has no attribute '_USub'\n",
            "root [WARNING] 'Unparser' object has no attribute '_USub'\n",
            "root [WARNING] 'Unparser' object has no attribute '_USub'\n",
            "root [WARNING] 'Unparser' object has no attribute '_USub'\n",
            "root [WARNING] 'Unparser' object has no attribute '_USub'\n",
            "root [WARNING] 'Unparser' object has no attribute '_USub'\n",
            "root [WARNING] 'Unparser' object has no attribute '_USub'\n",
            "root [WARNING] 'Unparser' object has no attribute '_USub'\n",
            "root [WARNING] 'Unparser' object has no attribute '_USub'\n",
            "root [WARNING] 'Unparser' object has no attribute '_USub'\n",
            "root [WARNING] 'Unparser' object has no attribute '_USub'\n",
            "root [WARNING] 'Unparser' object has no attribute '_USub'\n",
            "root [WARNING] 'Unparser' object has no attribute '_USub'\n",
            "root [WARNING] 'Unparser' object has no attribute '_USub'\n",
            "root [WARNING] 'Unparser' object has no attribute '_USub'\n",
            "root [WARNING] 'Unparser' object has no attribute '_USub'\n",
            "root [WARNING] 'Unparser' object has no attribute '_USub'\n",
            "root [WARNING] 'Unparser' object has no attribute '_USub'\n",
            "root [WARNING] 'Unparser' object has no attribute '_USub'\n",
            "root [WARNING] 'Unparser' object has no attribute '_USub'\n",
            "root [WARNING] 'Unparser' object has no attribute '_USub'\n",
            "root [WARNING] 'Unparser' object has no attribute '_USub'\n",
            "root [WARNING] 'Unparser' object has no attribute '_USub'\n",
            "root [WARNING] 'Unparser' object has no attribute '_USub'\n",
            "root [WARNING] 'Unparser' object has no attribute '_USub'\n",
            "root [WARNING] 'Unparser' object has no attribute '_USub'\n",
            "root [WARNING] 'Unparser' object has no attribute '_USub'\n",
            "root [WARNING] 'Unparser' object has no attribute '_USub'\n",
            "root [WARNING] 'Unparser' object has no attribute '_USub'\n",
            "root [WARNING] 'Unparser' object has no attribute '_USub'\n",
            "9 {1: {'accuracy': 0.0, 'bleu': 0.42811138376466035}}\n",
            "10 42.6011918490197\n",
            "11 40.51341400092809\n",
            "12 37.52746485769188\n",
            "13 35.60529535438506\n",
            "14 33.31997201456136\n"
          ]
        },
        {
          "data": {
            "text/html": [
              "<div style=\"display:flex;flex-direction:row;\"><span></span><progress style='margin:2px 4px;' max='66' value='66'></progress>100% 66/66 [24:50&lt;00:00, 12.79s/it]</div>"
            ],
            "text/plain": [
              "<tqdm._fake_ipywidgets.HBox object>"
            ]
          },
          "metadata": {
            "tags": []
          },
          "output_type": "display_data"
        },
        {
          "name": "stdout",
          "output_type": "stream",
          "text": [
            "root [WARNING] 'Unparser' object has no attribute '_USub'\n",
            "root [WARNING] 'Unparser' object has no attribute '_USub'\n",
            "root [WARNING] 'Unparser' object has no attribute '_USub'\n",
            "root [WARNING] 'Unparser' object has no attribute '_USub'\n",
            "root [WARNING] 'Unparser' object has no attribute '_USub'\n",
            "root [WARNING] 'Unparser' object has no attribute '_USub'\n",
            "root [WARNING] 'Unparser' object has no attribute '_USub'\n",
            "root [WARNING] 'Unparser' object has no attribute '_USub'\n",
            "root [WARNING] 'Unparser' object has no attribute '_USub'\n",
            "root [WARNING] 'Unparser' object has no attribute '_USub'\n",
            "root [WARNING] 'Unparser' object has no attribute '_USub'\n",
            "root [WARNING] 'Unparser' object has no attribute '_USub'\n",
            "root [WARNING] 'Unparser' object has no attribute '_USub'\n",
            "root [WARNING] 'Unparser' object has no attribute '_USub'\n",
            "root [WARNING] 'Unparser' object has no attribute '_USub'\n",
            "root [WARNING] 'Unparser' object has no attribute '_USub'\n",
            "root [WARNING] 'Unparser' object has no attribute '_USub'\n",
            "root [WARNING] 'Unparser' object has no attribute '_USub'\n",
            "root [WARNING] 'Unparser' object has no attribute '_USub'\n",
            "root [WARNING] 'Unparser' object has no attribute '_USub'\n",
            "root [WARNING] 'Unparser' object has no attribute '_USub'\n",
            "root [WARNING] 'Unparser' object has no attribute '_USub'\n",
            "root [WARNING] 'Unparser' object has no attribute '_USub'\n",
            "root [WARNING] 'Unparser' object has no attribute '_USub'\n",
            "root [WARNING] 'Unparser' object has no attribute '_USub'\n",
            "root [WARNING] 'Unparser' object has no attribute '_USub'\n",
            "root [WARNING] 'Unparser' object has no attribute '_USub'\n",
            "root [WARNING] 'Unparser' object has no attribute '_USub'\n",
            "root [WARNING] 'Unparser' object has no attribute '_USub'\n",
            "root [WARNING] 'Unparser' object has no attribute '_USub'\n",
            "root [WARNING] 'Unparser' object has no attribute '_USub'\n",
            "root [WARNING] 'Unparser' object has no attribute '_USub'\n",
            "root [WARNING] 'Unparser' object has no attribute '_USub'\n",
            "root [WARNING] 'Unparser' object has no attribute '_USub'\n",
            "root [WARNING] 'Unparser' object has no attribute '_USub'\n",
            "root [WARNING] 'Unparser' object has no attribute '_USub'\n",
            "root [WARNING] 'Unparser' object has no attribute '_USub'\n",
            "root [WARNING] 'Unparser' object has no attribute '_USub'\n",
            "root [WARNING] 'Unparser' object has no attribute '_USub'\n",
            "root [WARNING] 'Unparser' object has no attribute '_USub'\n",
            "root [WARNING] 'Unparser' object has no attribute '_USub'\n",
            "root [WARNING] 'Unparser' object has no attribute '_USub'\n",
            "root [WARNING] 'Unparser' object has no attribute '_USub'\n",
            "root [WARNING] 'Unparser' object has no attribute '_USub'\n",
            "root [WARNING] 'Unparser' object has no attribute '_USub'\n",
            "root [WARNING] 'Unparser' object has no attribute '_USub'\n",
            "root [WARNING] 'Unparser' object has no attribute '_USub'\n",
            "root [WARNING] 'Unparser' object has no attribute '_USub'\n",
            "root [WARNING] 'Unparser' object has no attribute '_USub'\n",
            "root [WARNING] 'Unparser' object has no attribute '_USub'\n",
            "root [WARNING] 'Unparser' object has no attribute '_USub'\n",
            "root [WARNING] 'Unparser' object has no attribute '_USub'\n",
            "root [WARNING] 'Unparser' object has no attribute '_USub'\n",
            "root [WARNING] 'Unparser' object has no attribute '_USub'\n",
            "root [WARNING] 'Unparser' object has no attribute '_USub'\n",
            "root [WARNING] 'Unparser' object has no attribute '_USub'\n",
            "root [WARNING] 'Unparser' object has no attribute '_USub'\n",
            "root [WARNING] 'Unparser' object has no attribute '_USub'\n",
            "root [WARNING] 'Unparser' object has no attribute '_USub'\n",
            "root [WARNING] 'Unparser' object has no attribute '_USub'\n",
            "root [WARNING] 'Unparser' object has no attribute '_USub'\n",
            "root [WARNING] 'Unparser' object has no attribute '_USub'\n",
            "root [WARNING] 'Unparser' object has no attribute '_USub'\n",
            "root [WARNING] 'Unparser' object has no attribute '_USub'\n",
            "root [WARNING] 'Unparser' object has no attribute '_USub'\n",
            "root [WARNING] 'Unparser' object has no attribute '_USub'\n",
            "root [WARNING] 'Unparser' object has no attribute '_USub'\n",
            "root [WARNING] 'Unparser' object has no attribute '_USub'\n",
            "14 {1: {'accuracy': 0.0, 'bleu': 0.36414172018093194}}\n",
            "15 31.263363326468106\n",
            "16 29.241909649313968\n",
            "17 27.54090325783163\n",
            "18 26.607998672166868\n",
            "19 24.1693445737098\n"
          ]
        },
        {
          "data": {
            "text/html": [
              "<div style=\"display:flex;flex-direction:row;\"><span></span><progress style='margin:2px 4px;' max='66' value='66'></progress>100% 66/66 [15:18&lt;00:00, 13.20s/it]</div>"
            ],
            "text/plain": [
              "<tqdm._fake_ipywidgets.HBox object>"
            ]
          },
          "metadata": {
            "tags": []
          },
          "output_type": "display_data"
        },
        {
          "name": "stdout",
          "output_type": "stream",
          "text": [
            "root [WARNING] 'Unparser' object has no attribute '_USub'\n",
            "root [WARNING] 'Unparser' object has no attribute '_USub'\n",
            "root [WARNING] 'Unparser' object has no attribute '_USub'\n",
            "root [WARNING] 'Unparser' object has no attribute '_USub'\n",
            "root [WARNING] 'Unparser' object has no attribute '_USub'\n",
            "root [WARNING] 'Unparser' object has no attribute '_USub'\n",
            "root [WARNING] 'Unparser' object has no attribute '_USub'\n",
            "root [WARNING] 'Unparser' object has no attribute '_USub'\n",
            "root [WARNING] 'Unparser' object has no attribute '_USub'\n",
            "root [WARNING] 'Unparser' object has no attribute '_USub'\n",
            "root [WARNING] 'Unparser' object has no attribute '_USub'\n",
            "root [WARNING] 'Unparser' object has no attribute '_USub'\n",
            "root [WARNING] 'Unparser' object has no attribute '_USub'\n",
            "root [WARNING] 'Unparser' object has no attribute '_USub'\n",
            "19 {1: {'accuracy': 0.0, 'bleu': 0.6610129309995296}}\n",
            "20 22.609036010157116\n",
            "21 21.22276961244296\n",
            "22 19.77361757871581\n",
            "23 18.528873204513964\n",
            "24 17.222962619216094\n"
          ]
        },
        {
          "data": {
            "text/html": [
              "<div style=\"display:flex;flex-direction:row;\"><span></span><progress style='margin:2px 4px;' max='66' value='66'></progress>100% 66/66 [20:16&lt;00:00, 14.60s/it]</div>"
            ],
            "text/plain": [
              "<tqdm._fake_ipywidgets.HBox object>"
            ]
          },
          "metadata": {
            "tags": []
          },
          "output_type": "display_data"
        },
        {
          "name": "stdout",
          "output_type": "stream",
          "text": [
            "root [WARNING] 'Unparser' object has no attribute '_USub'\n",
            "root [WARNING] 'Unparser' object has no attribute '_USub'\n",
            "root [WARNING] 'Unparser' object has no attribute '_USub'\n",
            "root [WARNING] 'Unparser' object has no attribute '_USub'\n",
            "root [WARNING] 'Unparser' object has no attribute '_USub'\n",
            "root [WARNING] 'Unparser' object has no attribute '_USub'\n",
            "root [WARNING] 'Unparser' object has no attribute '_USub'\n",
            "root [WARNING] 'Unparser' object has no attribute '_USub'\n",
            "root [WARNING] 'Unparser' object has no attribute '_USub'\n",
            "root [WARNING] 'Unparser' object has no attribute '_USub'\n",
            "root [WARNING] 'Unparser' object has no attribute '_USub'\n",
            "root [WARNING] 'Unparser' object has no attribute '_USub'\n",
            "root [WARNING] 'Unparser' object has no attribute '_USub'\n",
            "root [WARNING] 'Unparser' object has no attribute '_USub'\n",
            "root [WARNING] 'Unparser' object has no attribute '_USub'\n",
            "root [WARNING] 'Unparser' object has no attribute '_USub'\n",
            "24 {1: {'accuracy': 0.0, 'bleu': 0.6746992200018846}}\n",
            "25 16.19291466418618\n",
            "26 15.122472818528514\n",
            "27 14.13582622423406\n",
            "28 12.723928645840287\n",
            "29 11.70928368771948\n"
          ]
        },
        {
          "data": {
            "text/html": [
              "<div style=\"display:flex;flex-direction:row;\"><span></span><progress style='margin:2px 4px;' max='66' value='66'></progress>100% 66/66 [17:51&lt;00:00, 15.56s/it]</div>"
            ],
            "text/plain": [
              "<tqdm._fake_ipywidgets.HBox object>"
            ]
          },
          "metadata": {
            "tags": []
          },
          "output_type": "display_data"
        },
        {
          "name": "stdout",
          "output_type": "stream",
          "text": [
            "root [WARNING] 'Unparser' object has no attribute '_Not'\n",
            "root [WARNING] 'Unparser' object has no attribute '_Not'\n",
            "root [WARNING] 'Unparser' object has no attribute '_Not'\n",
            "root [WARNING] 'Unparser' object has no attribute '_Not'\n",
            "root [WARNING] 'Unparser' object has no attribute '_USub'\n",
            "root [WARNING] 'Unparser' object has no attribute '_USub'\n",
            "root [WARNING] 'Unparser' object has no attribute '_USub'\n",
            "root [WARNING] 'Unparser' object has no attribute '_USub'\n",
            "root [WARNING] 'Unparser' object has no attribute '_In'\n",
            "root [WARNING] 'Unparser' object has no attribute '_In'\n",
            "29 {1: {'accuracy': 0.0, 'bleu': 0.7151513811917455}}\n",
            "30 10.922026690522017\n",
            "31 10.696026899689349\n",
            "32 9.704926378843249\n",
            "33 8.891254437545678\n",
            "34 8.8998577961555\n"
          ]
        },
        {
          "data": {
            "text/html": [
              "<div style=\"display:flex;flex-direction:row;\"><span></span><progress style='margin:2px 4px;' max='66' value='66'></progress>100% 66/66 [17:44&lt;00:00, 14.86s/it]</div>"
            ],
            "text/plain": [
              "<tqdm._fake_ipywidgets.HBox object>"
            ]
          },
          "metadata": {
            "tags": []
          },
          "output_type": "display_data"
        },
        {
          "name": "stdout",
          "output_type": "stream",
          "text": [
            "root [WARNING] 'Unparser' object has no attribute '_USub'\n",
            "root [WARNING] 'Unparser' object has no attribute '_USub'\n",
            "34 {1: {'accuracy': 0.030303030303030304, 'bleu': 0.7658586634477333}}\n",
            "35 8.19073546835786\n",
            "36 7.086747329856844\n",
            "37 7.048947008896283\n",
            "38 6.7708946278573885\n",
            "39 6.361652815040011\n"
          ]
        },
        {
          "data": {
            "text/html": [
              "<div style=\"display:flex;flex-direction:row;\"><span></span><progress style='margin:2px 4px;' max='66' value='66'></progress>100% 66/66 [20:44&lt;00:00, 15.02s/it]</div>"
            ],
            "text/plain": [
              "<tqdm._fake_ipywidgets.HBox object>"
            ]
          },
          "metadata": {
            "tags": []
          },
          "output_type": "display_data"
        },
        {
          "name": "stdout",
          "output_type": "stream",
          "text": [
            "root [WARNING] 'Unparser' object has no attribute '_USub'\n",
            "root [WARNING] 'Unparser' object has no attribute '_USub'\n",
            "39 {1: {'accuracy': 0.015151515151515152, 'bleu': 0.7880679525952963}}\n",
            "40 6.35356375480011\n",
            "41 5.647665867830089\n",
            "42 5.016726374710034\n",
            "43 5.148770234933712\n",
            "44 4.499558201762117\n"
          ]
        },
        {
          "data": {
            "text/html": [
              "<div style=\"display:flex;flex-direction:row;\"><span></span><progress style='margin:2px 4px;' max='66' value='66'></progress>100% 66/66 [20:37&lt;00:00, 15.54s/it]</div>"
            ],
            "text/plain": [
              "<tqdm._fake_ipywidgets.HBox object>"
            ]
          },
          "metadata": {
            "tags": []
          },
          "output_type": "display_data"
        },
        {
          "name": "stdout",
          "output_type": "stream",
          "text": [
            "root [WARNING] 'Unparser' object has no attribute '_Or'\n",
            "root [WARNING] 'Unparser' object has no attribute '_Or'\n",
            "root [WARNING] 'Unparser' object has no attribute '_USub'\n",
            "root [WARNING] 'Unparser' object has no attribute '_USub'\n",
            "44 {1: {'accuracy': 0.030303030303030304, 'bleu': 0.7642537633448985}}\n",
            "45 4.430277769675737\n",
            "46 4.418294323653708\n",
            "47 4.505095297942469\n",
            "48 3.766512706889778\n",
            "49 3.8453985941412827\n"
          ]
        },
        {
          "data": {
            "text/html": [
              "<div style=\"display:flex;flex-direction:row;\"><span></span><progress style='margin:2px 4px;' max='66' value='66'></progress>100% 66/66 [20:28&lt;00:00, 14.84s/it]</div>"
            ],
            "text/plain": [
              "<tqdm._fake_ipywidgets.HBox object>"
            ]
          },
          "metadata": {
            "tags": []
          },
          "output_type": "display_data"
        },
        {
          "name": "stdout",
          "output_type": "stream",
          "text": [
            "root [WARNING] 'Unparser' object has no attribute '_USub'\n",
            "root [WARNING] 'Unparser' object has no attribute '_USub'\n",
            "root [WARNING] 'Unparser' object has no attribute '_USub'\n",
            "root [WARNING] 'Unparser' object has no attribute '_USub'\n",
            "49 {1: {'accuracy': 0.030303030303030304, 'bleu': 0.7777852703267657}}\n",
            "\n"
          ]
        }
      ],
      "source": [
        "from tqdm import tqdm_notebook as tqdm\n",
        "import torch\n",
        "from torch.utils.data import DataLoader\n",
        "import torch.nn.utils.rnn as rnn\n",
        "from nl2prog.utils import evaluate\n",
        "from nl2prog.nn.nl2code import Loss, Accuracy\n",
        "import nl2prog.nn.utils.rnn as nrnn\n",
        "from nl2prog.utils.data.nl2code import collate_train_dataset\n",
        "\n",
        "\n",
        "loss_function = Loss()\n",
        "acc_function = Accuracy()\n",
        "best_score = -1\n",
        "for epoch in tqdm(range(start_epoch, num_epochs)):\n",
        "    loader = DataLoader(train_dataset, batch_size=batch_size,\n",
        "                        shuffle=True,\n",
        "                        num_workers=4,\n",
        "                        collate_fn=collate_train_dataset)\n",
        "    avg_loss = 0.0\n",
        "    model.train()\n",
        "    for i, (query, action, prev_action) in enumerate(loader):\n",
        "        query = rnn.pack_sequence(query, enforce_sorted=False)\n",
        "        action = rnn.pack_sequence(action, enforce_sorted=False)\n",
        "        prev_action_train = [x[:-1] for x in prev_action]\n",
        "        action_ground_truth = [x[1:] for x in prev_action]\n",
        "        prev_action_train = rnn.pack_sequence(prev_action_train, enforce_sorted=False)\n",
        "        action_ground_truth = rnn.pack_sequence(action_ground_truth, enforce_sorted=False)\n",
        "        if device != -1:\n",
        "            query = query.cuda()\n",
        "            action = action.cuda()\n",
        "            prev_action_train = prev_action_train.cuda()\n",
        "            action_ground_truth = action_ground_truth.cuda()\n",
        "        query = nrnn.pad_packed_sequence(query, padding_value=-1)\n",
        "        action = nrnn.pad_packed_sequence(action, padding_value=-1)\n",
        "        prev_action_train = nrnn.pad_packed_sequence(prev_action_train, padding_value=-1)\n",
        "        action_ground_truth = nrnn.pad_packed_sequence(action_ground_truth, padding_value=-1)\n",
        "\n",
        "        rule_prob, token_prob, copy_prob, _, _ = model(query, action, prev_action_train)\n",
        "        loss = loss_function(rule_prob, token_prob, copy_prob, action_ground_truth)\n",
        "        model.zero_grad()\n",
        "        loss.backward()\n",
        "        optimizer.step()\n",
        "\n",
        "        step = epoch * len(train_dataset) + i * batch_size\n",
        "        l = loss.cpu().detach().numpy()\n",
        "        avg_loss += l / len(loader)\n",
        "    print(epoch, avg_loss)\n",
        "    checkpoint = {\n",
        "        \"model\": model.state_dict(),\n",
        "        \"optimizer\": optimizer.state_dict(),\n",
        "        \"epoch\": epoch + 1\n",
        "    }\n",
        "    torch.save(checkpoint, checkpoint_path)\n",
        "\n",
        "    # Evaluate test dataset\n",
        "    if (epoch + 1) % evaluation_interval == 0:\n",
        "        model.eval()\n",
        "        result = evaluate(tqdm(test_dataset), synthesize, top_n=[1], metrics=metrics)\n",
        "        print(epoch, result.metrics)\n",
        "        score = result.metrics[1][\"bleu\"]\n",
        "        if score > best_score:\n",
        "            best_score = score\n",
        "            torch.save(model.state_dict(), os.path.join(output_dir_path, \"best_model.pickle\"))\n",
        "\n",
        "if best_score < 0:\n",
        "    torch.save(model.state_dict(), os.path.join(output_dir_path, \"best_model.pickle\"))\n"
      ]
    },
    {
      "cell_type": "markdown",
      "metadata": {
        "colab_type": "text",
        "id": "toeP4RGEeK1b"
      },
      "source": [
        "### Run Validation"
      ]
    },
    {
      "cell_type": "code",
      "execution_count": 0,
      "metadata": {
        "colab": {},
        "colab_type": "code",
        "id": "BAjEaEWYeKGF"
      },
      "outputs": [],
      "source": [
        "from tqdm import tqdm_notebook as tqdm\n",
        "import os\n",
        "import pickle\n",
        "import torch\n",
        "import torch.nn.utils.rnn as rnn\n",
        "import nl2prog.nn.utils.rnn as nrnn\n",
        "from nl2prog.utils import evaluate\n",
        "\n",
        "# Validate the model\n",
        "model.load_state_dict(torch.load(os.path.join(output_dir_path, \"best_model.pickle\")))\n",
        "model.eval()\n",
        "result = evaluate(tqdm(valid_dataset), synthesize, top_n=[1], metrics=metrics)\n",
        "print(result.metrics)\n",
        "with open(os.path.join(output_dir_path, \"validation_results.pickle\"), \"wb\") as file:\n",
        "    pickle.dump(result.results, file)\n"
      ]
    }
  ]
}