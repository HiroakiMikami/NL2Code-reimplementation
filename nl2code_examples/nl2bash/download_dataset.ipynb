{
  "nbformat": 4,
  "nbformat_minor": 0,
  "metadata": {
    "colab": {
      "name": "NL2Code hs download_dataset",
      "provenance": [],
      "private_outputs": true,
      "collapsed_sections": [],
      "toc_visible": true
    },
    "kernelspec": {
      "name": "python3",
      "display_name": "Python 3"
    }
  },
  "cells": [
    {
      "cell_type": "markdown",
      "metadata": {
        "colab_type": "text",
        "id": "yje9hqtcUQ_f"
      },
      "source": [
        "### Initialization\n",
        "* Check whether the runtime is host or local.\n",
        "* Mount Google Drive when using the host runtime."
      ]
    },
    {
      "cell_type": "code",
      "execution_count": 0,
      "metadata": {
        "colab": {},
        "colab_type": "code",
        "id": "bvx1xaUz-bTB"
      },
      "outputs": [],
      "source": [
        "try:\n",
        "  from google.colab import drive\n",
        "  drive.mount('/gdrive')\n",
        "  runtime = \"host\"\n",
        "except:\n",
        "  runtime = \"local\""
      ]
    },
    {
      "cell_type": "markdown",
      "metadata": {
        "colab_type": "text",
        "id": "_S457sT6QMUr"
      },
      "source": [
        "### Parameters"
      ]
    },
    {
      "cell_type": "code",
      "execution_count": 0,
      "metadata": {
        "colab": {},
        "colab_type": "code",
        "id": "2LYvG4iCQUwh"
      },
      "outputs": [],
      "source": [
        "#@title Parameters\n",
        "#@markdown |Name            |Description|\n",
        "#@markdown |:---            |:---|\n",
        "#@markdown |`seed`|The random seed|\n",
        "seed = 3984 #@param {type: \"number\"}\n",
        "\n",
        "#@markdown ### `nl2code` Repositories\n",
        "#@markdown |Name            |Description|\n",
        "#@markdown |:---            |:---|\n",
        "#@markdown |`repository_url`|The URL of `deep-coder` git repository (enabled only in the host runtime)|\n",
        "#@markdown |`branch_name`   |The branch name (enabled only in the host runtime)|\n",
        "repository_url = \"https://github.com/HiroakiMikami/NL2Code-reimplementation\" #@param {type: \"string\"}\n",
        "branch_name = \"master\" #@param {type: \"string\"}\n",
        "\n",
        "#@markdown ### Filepathes\n",
        "#@markdown |Name         |Description|\n",
        "#@markdown |:---         |:---|\n",
        "#@markdown |`output_path`|The path of the dataset file.|\n",
        "output_path = \"/gdrive/My Drive/NL2Code/hearthstone/dataset.pickle\" #@param {type: \"string\"}\n",
        "\n"
      ]
    },
    {
      "cell_type": "markdown",
      "metadata": {
        "colab_type": "text",
        "id": "_BembldCdOO1"
      },
      "source": [
        "### Setup\n",
        "* Fix the random seed\n",
        "* Download the codebase (when using the host runtime)\n",
        "  1. Clone git repository and move to the specified branch\n",
        "  2. Install modules"
      ]
    },
    {
      "cell_type": "code",
      "execution_count": 0,
      "metadata": {
        "colab": {},
        "colab_type": "code",
        "id": "GwjlAkY1fR5j"
      },
      "outputs": [],
      "source": [
        "import numpy as np\n",
        "import random\n",
        "\n",
        "SEED_MAX = 2**32 - 1\n",
        "\n",
        "root_rng = np.random.RandomState(seed)\n",
        "random.seed(root_rng.randint(SEED_MAX))\n",
        "np.random.seed(root_rng.randint(SEED_MAX))"
      ]
    },
    {
      "cell_type": "code",
      "execution_count": 0,
      "metadata": {
        "colab": {},
        "colab_type": "code",
        "id": "3Azp_KWM68UZ"
      },
      "outputs": [],
      "source": [
        "if runtime == \"host\":\n",
        "    %cd /content\n",
        "    !rm -rf NL2Code\n",
        "    ![ ! -e NL2Code ] && git clone $repository_url NL2Code\n",
        "    %cd NL2Code\n",
        "    !git checkout $branch_name\n",
        "    !pip install -e .\n",
        "    !pip install -e . \".[django]\"\n",
        "# load tqdm\n",
        "!pip install --force https://github.com/chengs/tqdm/archive/colab.zip"
      ]
    },
    {
      "cell_type": "markdown",
      "metadata": {
        "colab_type": "text",
        "id": "Oz7sdzxUi70b"
      },
      "source": [
        "### Download dataset\n",
        "* download dataset\n",
        "* Format annotation"
      ]
    },
    {
      "cell_type": "code",
      "execution_count": 0,
      "metadata": {
        "colab": {},
        "colab_type": "code",
        "id": "h7kdglcUjDTQ"
      },
      "outputs": [],
      "source": [
        "import tempfile\n",
        "from nl2code_examples.hearthstone import Entry\n",
        "with tempfile.TemporaryDirectory() as tmpdirname:\n",
        "    !mkdir -p $tmpdirname/tmp\n",
        "    !git clone --depth 1 https://github.com/deepmind/card2code $tmpdirname/tmp/card2code\n",
        "    \n",
        "    dataset = {}\n",
        "    for name in [\"train\", \"dev\", \"test\"]:\n",
        "        target = name\n",
        "        if name == \"dev\":\n",
        "            target = \"valid\"\n",
        "        with open(\"{}/tmp/card2code/third_party/hearthstone/{}_hs.in\".format(tmpdirname, name)) as f:\n",
        "            query = f.readlines()\n",
        "        with open(\"{}/tmp/card2code/third_party/hearthstone/{}_hs.out\".format(tmpdirname, name)) as f:\n",
        "            code = f.readlines()\n",
        "            code = [c.replace(\"§\", \"\\n\").replace(\"and \\\\\", \"and \") for c in code]\n",
        "        entries = []\n",
        "        for q, c in zip(query, code):\n",
        "            entries.append(Entry(q, c))\n",
        "        dataset[target] = entries"
      ]
    },
    {
      "cell_type": "markdown",
      "metadata": {
        "colab_type": "text",
        "id": "kFLWWHi-zOX2"
      },
      "source": [
        "### Save dataset\n",
        "* save dataset"
      ]
    },
    {
      "cell_type": "code",
      "execution_count": 0,
      "metadata": {
        "colab": {},
        "colab_type": "code",
        "id": "c4yxBAjZn9ib"
      },
      "outputs": [],
      "source": [
        "import os\n",
        "import pickle\n",
        "\n",
        "if not os.path.exists(os.path.dirname(output_path)):\n",
        "    os.makedirs(os.path.dirname(output_path))\n",
        "\n",
        "with open(output_path, \"wb\") as f:\n",
        "    pickle.dump(dataset, f)"
      ]
    }
  ]
}